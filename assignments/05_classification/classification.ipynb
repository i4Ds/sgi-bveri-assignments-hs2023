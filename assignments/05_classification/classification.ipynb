{
 "cells": [
  {
   "cell_type": "markdown",
   "metadata": {},
   "source": [
    "## FHNW bverI - HS2023"
   ]
  },
  {
   "cell_type": "code",
   "execution_count": null,
   "metadata": {
    "deletable": false,
    "editable": false,
    "nbgrader": {
     "cell_type": "code",
     "checksum": "f10f19697935a18db955753fdc25539f",
     "grade": false,
     "grade_id": "header",
     "locked": true,
     "schema_version": 3,
     "solution": false,
     "task": false
    },
    "tags": []
   },
   "outputs": [],
   "source": [
    "%load_ext autoreload\n",
    "%autoreload 2\n",
    "%matplotlib inline\n",
    "\n",
    "from IPython.core.interactiveshell import InteractiveShell\n",
    "InteractiveShell.ast_node_interactivity = \"all\""
   ]
  },
  {
   "cell_type": "markdown",
   "metadata": {
    "deletable": false,
    "editable": false,
    "nbgrader": {
     "cell_type": "markdown",
     "checksum": "98db2c921fb65264d9a5760161f871de",
     "grade": false,
     "grade_id": "title",
     "locked": true,
     "schema_version": 3,
     "solution": false,
     "task": false
    },
    "tags": []
   },
   "source": [
    "# Image Classification\n",
    "\n",
    "Diese Übung basiert zum Teil auf: [https://pytorch.org/tutorials/beginner/blitz/cifar10_tutorial.html](https://pytorch.org/tutorials/beginner/blitz/cifar10_tutorial.html)\n",
    "\n",
    "\n",
    "## Lernziele\n",
    "\n",
    "- CNNs: Definieren, Optimieren, Inspizieren\n",
    "- Klassifikation: Definieren, Evaluieren"
   ]
  },
  {
   "cell_type": "markdown",
   "metadata": {
    "deletable": false,
    "editable": false,
    "nbgrader": {
     "cell_type": "markdown",
     "checksum": "7f7bcfb2ce644d624acaebbe1f3b3c67",
     "grade": false,
     "grade_id": "cell-a9856bbf98ea570f",
     "locked": true,
     "schema_version": 3,
     "solution": false,
     "task": false
    }
   },
   "source": [
    "## Setup\n",
    "\n",
    "Im Folgenden installieren und laden wir die benötigten Python packages. Danach setzten wir die Pfade für den Zugriff auf Daten und spezifizieren einen Output-Folder."
   ]
  },
  {
   "cell_type": "code",
   "execution_count": null,
   "metadata": {
    "deletable": false,
    "editable": false,
    "nbgrader": {
     "cell_type": "code",
     "checksum": "12b88d0cdec322fb46a8180521d6e60d",
     "grade": false,
     "grade_id": "imports",
     "locked": true,
     "schema_version": 3,
     "solution": false,
     "task": false
    },
    "tags": []
   },
   "outputs": [],
   "source": [
    "import os\n",
    "from pathlib import Path\n",
    "\n",
    "from matplotlib import pyplot as plt\n",
    "import numpy as np\n",
    "import pandas as pd\n",
    "from PIL import Image\n",
    "import torch\n",
    "import torchshow as ts\n",
    "from tqdm.notebook import tqdm"
   ]
  },
  {
   "cell_type": "markdown",
   "metadata": {},
   "source": [
    "Mount your google drive to store data and results."
   ]
  },
  {
   "cell_type": "code",
   "execution_count": null,
   "metadata": {},
   "outputs": [],
   "source": [
    "try:\n",
    "  import google.colab\n",
    "  IN_COLAB = True\n",
    "except:\n",
    "  IN_COLAB = False\n",
    "\n",
    "print(f\"In colab: {IN_COLAB}\")"
   ]
  },
  {
   "cell_type": "code",
   "execution_count": null,
   "metadata": {},
   "outputs": [],
   "source": [
    "if IN_COLAB:\n",
    "    from google.colab import drive\n",
    "    drive.mount('/content/drive')"
   ]
  },
  {
   "cell_type": "markdown",
   "metadata": {},
   "source": [
    "Modifizieren Sie die folgenden Pfade bei Bedarf."
   ]
  },
  {
   "cell_type": "code",
   "execution_count": null,
   "metadata": {},
   "outputs": [],
   "source": [
    "if IN_COLAB:\n",
    "    DATA_PATH = Path('/content/drive/MyDrive/bverI/data')\n",
    "else:\n",
    "    DATA_PATH = Path('../data')"
   ]
  },
  {
   "cell_type": "markdown",
   "metadata": {},
   "source": [
    "Install packages not in base Colab environment."
   ]
  },
  {
   "cell_type": "code",
   "execution_count": null,
   "metadata": {},
   "outputs": [],
   "source": [
    "if IN_COLAB:\n",
    "    os.system(\"pip install torchshow torchinfo gdown\")"
   ]
  },
  {
   "cell_type": "markdown",
   "metadata": {
    "deletable": false,
    "editable": false,
    "nbgrader": {
     "cell_type": "markdown",
     "checksum": "5c7462009a7cc9e23ca1c78f94cc9836",
     "grade": false,
     "grade_id": "cell-e42381e5cd5d11d6",
     "locked": true,
     "schema_version": 3,
     "solution": false,
     "task": false
    },
    "tags": []
   },
   "source": [
    "## Datensatz\n",
    "\n",
    "Als erstes bereiten wir den CIFAR10 Datensatz vor."
   ]
  },
  {
   "cell_type": "code",
   "execution_count": null,
   "metadata": {
    "deletable": false,
    "editable": false,
    "nbgrader": {
     "cell_type": "code",
     "checksum": "3cbd240e945897fa491d26b4184fce58",
     "grade": false,
     "grade_id": "cell-bbe3dead2fb7f631",
     "locked": true,
     "schema_version": 3,
     "solution": false,
     "task": false
    },
    "tags": []
   },
   "outputs": [],
   "source": [
    "import torchvision\n",
    "import torchvision.transforms as transforms"
   ]
  },
  {
   "cell_type": "markdown",
   "metadata": {
    "deletable": false,
    "editable": false,
    "nbgrader": {
     "cell_type": "markdown",
     "checksum": "b51908798b6cf2c095dae49c6988d2f5",
     "grade": false,
     "grade_id": "cell-ebbc4a1637ff3ee5",
     "locked": true,
     "schema_version": 3,
     "solution": false,
     "task": false
    },
    "tags": []
   },
   "source": [
    "Benutzen Sie `torchvision.datasets.CIFAR10` um zwei `torch.utils.data.Dataset` zu erstellen. \n",
    "\n",
    "- Eines für den Trainings-Datensatz\n",
    "- Eines für den Test-Datensatz\n",
    "\n",
    "Instanzieren Sie dann jweils einen`torch.utils.data.Dataloader` um über die Daten zu iterieren.\n",
    "\n",
    "Erstellen Sie `torchvision.transforms` Transformationen um die Daten in Tensoren `transforms.ToTensor()` zu konvertieren und die Daten so mit `transforms.Normalize` zu skalieren, dass diese im Interval [-1, 1] liegen."
   ]
  },
  {
   "cell_type": "code",
   "execution_count": null,
   "metadata": {
    "deletable": false,
    "nbgrader": {
     "cell_type": "code",
     "checksum": "22e9912f2ae6a071946396da0c2c1b22",
     "grade": true,
     "grade_id": "cell-980e5955a7ac1512",
     "locked": false,
     "points": 0,
     "schema_version": 3,
     "solution": true,
     "task": false
    },
    "tags": []
   },
   "outputs": [],
   "source": [
    "# YOUR CODE HERE\n",
    "raise NotImplementedError()\n"
   ]
  },
  {
   "cell_type": "markdown",
   "metadata": {
    "deletable": false,
    "editable": false,
    "nbgrader": {
     "cell_type": "markdown",
     "checksum": "19cec90ae66c79d92ee889a3c8050516",
     "grade": false,
     "grade_id": "cell-0fb07b02f0d1a813",
     "locked": true,
     "schema_version": 3,
     "solution": false,
     "task": false
    },
    "tags": []
   },
   "source": [
    "Benutzen Sie `torchshow.show()` um die Bilder eines Batches anzuzeigen. Plotten Sie zusätzlich die Labels."
   ]
  },
  {
   "cell_type": "code",
   "execution_count": null,
   "metadata": {
    "deletable": false,
    "nbgrader": {
     "cell_type": "code",
     "checksum": "36b0423ece64b9f7c5ba85e7894df12d",
     "grade": true,
     "grade_id": "cell-55105c348a9513ca",
     "locked": false,
     "points": 0,
     "schema_version": 3,
     "solution": true,
     "task": false
    },
    "tags": []
   },
   "outputs": [],
   "source": [
    "# YOUR CODE HERE\n",
    "raise NotImplementedError()\n"
   ]
  },
  {
   "cell_type": "markdown",
   "metadata": {
    "deletable": false,
    "editable": false,
    "nbgrader": {
     "cell_type": "markdown",
     "checksum": "6fe1e7e0aebaf291f34d8f845fb45bea",
     "grade": false,
     "grade_id": "cell-8525cd8b379dd56c",
     "locked": true,
     "schema_version": 3,
     "solution": false,
     "task": false
    },
    "tags": []
   },
   "source": [
    "## Definition CNN\n",
    "\n",
    "Definieren Sie ein CNN mit folgender Sequenz:\n",
    "\n",
    "- Input Shape: (3, 32, 32)\n",
    "- Convolution: 8 Filters, Kernel-Size 5x5\n",
    "- Pooling: Stride 2, Kernel-Size 2\n",
    "- Convolution: 16 Filter, Kernel-Size 5x5\n",
    "- Pooling: Stride 2, Kernel-Size 2\n",
    "- FC: 120 Neuronen\n",
    "- FC: 84 Neuronen\n",
    "- FC: 10 Neuronen (für 10 Klassen)\n",
    "\n",
    "Benutzen Sie ReLU Aktivierungen nach jedem Layer.\n",
    "\n",
    "Definieren Sie eine Klasse, die von `torch.nn.Module` erbt und instanzieren Sie Ihr Netzwerk."
   ]
  },
  {
   "cell_type": "code",
   "execution_count": null,
   "metadata": {
    "deletable": false,
    "nbgrader": {
     "cell_type": "code",
     "checksum": "a65a79886d036b390c11f93d9cf10cbe",
     "grade": true,
     "grade_id": "cell-06bc4ea16ea5f713",
     "locked": false,
     "points": 0,
     "schema_version": 3,
     "solution": true,
     "task": false
    },
    "tags": []
   },
   "outputs": [],
   "source": [
    "import torchinfo\n",
    "import torch.nn as nn\n",
    "import torch.nn.functional as F\n",
    "\n",
    "# YOUR CODE HERE\n",
    "raise NotImplementedError()\n",
    "\n"
   ]
  },
  {
   "cell_type": "markdown",
   "metadata": {
    "deletable": false,
    "editable": false,
    "nbgrader": {
     "cell_type": "markdown",
     "checksum": "f503e522786a6493181cf82999160877",
     "grade": false,
     "grade_id": "cell-26e0c1522d99aab7",
     "locked": true,
     "schema_version": 3,
     "solution": false,
     "task": false
    },
    "tags": []
   },
   "source": [
    "## Trainieren eines CNN\n",
    "\n",
    "Erstellen Sie eine Objekt für die [_cross entropy_](https://pytorch.org/docs/stable/generated/torch.nn.CrossEntropyLoss.html) Kostenfunktion und instanzieren Sie einen _optimizer_ aus [torch.optim](https://pytorch.org/docs/stable/optim.html)."
   ]
  },
  {
   "cell_type": "code",
   "execution_count": null,
   "metadata": {
    "deletable": false,
    "nbgrader": {
     "cell_type": "code",
     "checksum": "797f89853a874ff9bae53bfccc6885ce",
     "grade": true,
     "grade_id": "cell-aa418fcc5649d483",
     "locked": false,
     "points": 0,
     "schema_version": 3,
     "solution": true,
     "task": false
    },
    "tags": []
   },
   "outputs": [],
   "source": [
    "import torch.optim as optim\n",
    "# YOUR CODE HERE\n",
    "raise NotImplementedError()"
   ]
  },
  {
   "cell_type": "markdown",
   "metadata": {
    "deletable": false,
    "editable": false,
    "nbgrader": {
     "cell_type": "markdown",
     "checksum": "83291547d9d378389e55d9dac215a85b",
     "grade": false,
     "grade_id": "cell-39475ff98a1f8585",
     "locked": true,
     "schema_version": 3,
     "solution": false,
     "task": false
    },
    "tags": []
   },
   "source": [
    "Erstellen Sie einen Trainings-Loop und trainieren Sie ihr Modell für 2 Epochen. Printen Sie den Loss in regelmässigen Abständen."
   ]
  },
  {
   "cell_type": "code",
   "execution_count": null,
   "metadata": {
    "deletable": false,
    "nbgrader": {
     "cell_type": "code",
     "checksum": "33f4b6dbdf0fa4e5e54e5275cfaf54c9",
     "grade": true,
     "grade_id": "cell-85bfe06c60e3e3fb",
     "locked": false,
     "points": 0,
     "schema_version": 3,
     "solution": true,
     "task": false
    },
    "tags": []
   },
   "outputs": [],
   "source": [
    "# YOUR CODE HERE\n",
    "raise NotImplementedError()"
   ]
  },
  {
   "cell_type": "markdown",
   "metadata": {
    "deletable": false,
    "editable": false,
    "nbgrader": {
     "cell_type": "markdown",
     "checksum": "8961032b49468d3235c67991a5f17f50",
     "grade": false,
     "grade_id": "cell-bdbaf8c40cfa9bd7",
     "locked": true,
     "schema_version": 3,
     "solution": false,
     "task": false
    },
    "tags": []
   },
   "source": [
    "Speichern Sie ihr Modell ab."
   ]
  },
  {
   "cell_type": "code",
   "execution_count": null,
   "metadata": {
    "deletable": false,
    "nbgrader": {
     "cell_type": "code",
     "checksum": "48c909f22a844e29153d259f4d39e7ac",
     "grade": true,
     "grade_id": "cell-df28e3c13ec8a09c",
     "locked": false,
     "points": 0,
     "schema_version": 3,
     "solution": true,
     "task": false
    },
    "tags": []
   },
   "outputs": [],
   "source": [
    "# YOUR CODE HERE\n",
    "raise NotImplementedError()"
   ]
  },
  {
   "cell_type": "markdown",
   "metadata": {
    "deletable": false,
    "editable": false,
    "nbgrader": {
     "cell_type": "markdown",
     "checksum": "b65d72c38d0347bc28fae8fe96342853",
     "grade": false,
     "grade_id": "cell-402658383637bfbe",
     "locked": true,
     "schema_version": 3,
     "solution": false,
     "task": false
    },
    "tags": []
   },
   "source": [
    "Visualisieren Sie die gelernten _filters_ im ersten Layer des CNNs. Sie können diese via `net.parameters()` finden. Benutzen Sie `torchshow.show()` für die Visualisierung."
   ]
  },
  {
   "cell_type": "code",
   "execution_count": null,
   "metadata": {
    "deletable": false,
    "nbgrader": {
     "cell_type": "code",
     "checksum": "f73bd4b78e19039e6ffa5386359aa156",
     "grade": true,
     "grade_id": "cell-93ed3332d883b820",
     "locked": false,
     "points": 0,
     "schema_version": 3,
     "solution": true,
     "task": false
    },
    "tags": []
   },
   "outputs": [],
   "source": [
    "# YOUR CODE HERE\n",
    "raise NotImplementedError()"
   ]
  },
  {
   "cell_type": "markdown",
   "metadata": {
    "deletable": false,
    "editable": false,
    "nbgrader": {
     "cell_type": "markdown",
     "checksum": "b556b8c280e91615e443f6e556cb9827",
     "grade": false,
     "grade_id": "cell-52424cc5813975bf",
     "locked": true,
     "schema_version": 3,
     "solution": false,
     "task": false
    },
    "tags": []
   },
   "source": [
    "## Evaluieren eines CNN"
   ]
  },
  {
   "cell_type": "markdown",
   "metadata": {
    "deletable": false,
    "editable": false,
    "nbgrader": {
     "cell_type": "markdown",
     "checksum": "725a13e5addfecbd8ebb7f48955ae3b8",
     "grade": false,
     "grade_id": "cell-3c552af9c0b6cd75",
     "locked": true,
     "schema_version": 3,
     "solution": false,
     "task": false
    },
    "tags": []
   },
   "source": [
    "Wir möchten unser Modell nun auf dem Test-Set Evaluieren. Als erstes erzeugen wir _predictions_ für einen Batch von Test-Bildern:\n",
    "\n",
    "- Benutzen Sie den dataloader um 16 Bilder zu laden.\n",
    "\n",
    "- Erstellen Sie Predictions für die 16 Bilder mit einem forward-pass durch das Modell.\n",
    "\n",
    "- Vergleichen Sie die Predictions mit dem wahren Label."
   ]
  },
  {
   "cell_type": "code",
   "execution_count": null,
   "metadata": {
    "deletable": false,
    "nbgrader": {
     "cell_type": "code",
     "checksum": "5a7e5fae10ee884d7ffea026f4d8812a",
     "grade": true,
     "grade_id": "cell-76cc7895547e9ee5",
     "locked": false,
     "points": 0,
     "schema_version": 3,
     "solution": true,
     "task": false
    },
    "tags": []
   },
   "outputs": [],
   "source": [
    "# YOUR CODE HERE\n",
    "raise NotImplementedError()"
   ]
  },
  {
   "cell_type": "markdown",
   "metadata": {
    "deletable": false,
    "editable": false,
    "nbgrader": {
     "cell_type": "markdown",
     "checksum": "7d84916fc73af23740e9e6402c78f7be",
     "grade": false,
     "grade_id": "cell-060271ef15651b52",
     "locked": true,
     "schema_version": 3,
     "solution": false,
     "task": false
    },
    "tags": []
   },
   "source": [
    "Evaluieren Sie nun den gesamten Test-Datensatz. Benutzen Sie `torch.no_grad()` um keinen Graphen aufzubauen. Berechnen Sie die Accuracy und printen Sie diese."
   ]
  },
  {
   "cell_type": "code",
   "execution_count": null,
   "metadata": {
    "deletable": false,
    "nbgrader": {
     "cell_type": "code",
     "checksum": "4d2d54fba2bb6fc62b95089f8728b94f",
     "grade": true,
     "grade_id": "cell-271e09779277ff80",
     "locked": false,
     "points": 0,
     "schema_version": 3,
     "solution": true,
     "task": false
    },
    "tags": []
   },
   "outputs": [],
   "source": [
    "# YOUR CODE HERE\n",
    "raise NotImplementedError()"
   ]
  },
  {
   "cell_type": "markdown",
   "metadata": {
    "deletable": false,
    "editable": false,
    "nbgrader": {
     "cell_type": "markdown",
     "checksum": "636ea83c829457dccb0f33dea7a24f39",
     "grade": false,
     "grade_id": "cell-3368f29ef9e4cc98",
     "locked": true,
     "schema_version": 3,
     "solution": false,
     "task": false
    },
    "tags": []
   },
   "source": [
    "### Confusion-Matrix\n",
    "\n",
    "Plotten Sie eine _confusion matrix_. Benutzen Sie \n",
    "\n",
    "- [confusion_matrix](https://scikit-learn.org/stable/modules/generated/sklearn.metrics.confusion_matrix.html)\n",
    "- [ConfusionMatrixDisplay](https://scikit-learn.org/stable/modules/generated/sklearn.metrics.ConfusionMatrixDisplay.html#sklearn.metrics.ConfusionMatrixDisplay)\n",
    "\n",
    "Welche Klassen werden stark verwechselt?"
   ]
  },
  {
   "cell_type": "code",
   "execution_count": null,
   "metadata": {
    "deletable": false,
    "nbgrader": {
     "cell_type": "code",
     "checksum": "0a8b867f7e71030dad30afd359c1bb6a",
     "grade": true,
     "grade_id": "cell-78b9e4f3c69747d5",
     "locked": false,
     "points": 0,
     "schema_version": 3,
     "solution": true,
     "task": false
    },
    "tags": []
   },
   "outputs": [],
   "source": [
    "from sklearn.metrics import confusion_matrix\n",
    "from sklearn.metrics import ConfusionMatrixDisplay\n",
    "\n",
    "# YOUR CODE HERE\n",
    "raise NotImplementedError()"
   ]
  },
  {
   "cell_type": "markdown",
   "metadata": {
    "deletable": false,
    "editable": false,
    "nbgrader": {
     "cell_type": "markdown",
     "checksum": "2249f63c16cf84b181144a5f8cc0636c",
     "grade": false,
     "grade_id": "cell-1f3c0de79c9f603b",
     "locked": true,
     "schema_version": 3,
     "solution": false,
     "task": false
    },
    "tags": []
   },
   "source": [
    "## Pre-Trained Models\n",
    "\n",
    "Wir verwenden nun ein vortrainiertes Modell. Lesen Sie dazu die Dokumentation: [https://pytorch.org/vision/0.8/models.html](https://pytorch.org/vision/0.8/models.html).\n",
    "\n",
    "Laden Sie ResNet18 mit vortrainierten Gewichten."
   ]
  },
  {
   "cell_type": "code",
   "execution_count": null,
   "metadata": {
    "deletable": false,
    "nbgrader": {
     "cell_type": "code",
     "checksum": "d712c344f6689697736d6961f08e8078",
     "grade": true,
     "grade_id": "cell-39c22ca50688c3fe",
     "locked": false,
     "points": 0,
     "schema_version": 3,
     "solution": true,
     "task": false
    },
    "tags": []
   },
   "outputs": [],
   "source": [
    "# YOUR CODE HERE\n",
    "raise NotImplementedError()"
   ]
  },
  {
   "cell_type": "markdown",
   "metadata": {
    "deletable": false,
    "editable": false,
    "nbgrader": {
     "cell_type": "markdown",
     "checksum": "7d96b15ca720d893796f1862d5467f22",
     "grade": false,
     "grade_id": "cell-13e592b3ecf90a44",
     "locked": true,
     "schema_version": 3,
     "solution": false,
     "task": false
    },
    "tags": []
   },
   "source": [
    "Visualisieren Sie die gelernten Filter im ersten Convolutional Layer."
   ]
  },
  {
   "cell_type": "code",
   "execution_count": null,
   "metadata": {
    "deletable": false,
    "nbgrader": {
     "cell_type": "code",
     "checksum": "8efd80add7c857a4afca9afdf2fb0b06",
     "grade": true,
     "grade_id": "cell-a3db6edec2e75a62",
     "locked": false,
     "points": 0,
     "schema_version": 3,
     "solution": true,
     "task": false
    },
    "tags": []
   },
   "outputs": [],
   "source": [
    "# YOUR CODE HERE\n",
    "raise NotImplementedError()"
   ]
  },
  {
   "cell_type": "markdown",
   "metadata": {},
   "source": [
    "Wir laden nun Bilder von Katzen und Hunden."
   ]
  },
  {
   "cell_type": "code",
   "execution_count": null,
   "metadata": {},
   "outputs": [],
   "source": [
    "import gdown\n",
    "\n",
    "file_id = \"1WLO1LOwIp82ZTyf3eKjRAo65FBMaAfuo\"\n",
    "url = f\"https://drive.google.com/uc?id={file_id}\"\n",
    "\n",
    "download_path = DATA_PATH / \"cats_vs_dogs.zip\"\n",
    "if not download_path.exists():\n",
    "    gdown.download(url, str(download_path), quiet=False)\n"
   ]
  },
  {
   "cell_type": "code",
   "execution_count": null,
   "metadata": {},
   "outputs": [],
   "source": [
    "if not (DATA_PATH / \"cats_vs_dogs\").exists():\n",
    "    CMD = f\"unzip {str(download_path)} -d {DATA_PATH}\"\n",
    "    os.system(CMD)"
   ]
  },
  {
   "cell_type": "markdown",
   "metadata": {
    "deletable": false,
    "editable": false,
    "nbgrader": {
     "cell_type": "markdown",
     "checksum": "911bef4c00512ea7170822b20f4092de",
     "grade": false,
     "grade_id": "cell-760519e9b1013962",
     "locked": true,
     "schema_version": 3,
     "solution": false,
     "task": false
    },
    "tags": []
   },
   "source": [
    "Lesen Sie die Bilder:\n",
    "- `DATA_PATH / \"cats_vs_dogs\" / \"dog.4.jpg`\n",
    "- `DATA_PATH / \"cats_vs_dogs\" / \"cat.38.jpg`"
   ]
  },
  {
   "cell_type": "code",
   "execution_count": null,
   "metadata": {
    "deletable": false,
    "nbgrader": {
     "cell_type": "code",
     "checksum": "16a0dcec948003b787b9a1b95a0cbe10",
     "grade": true,
     "grade_id": "cell-a58582f297a306ff",
     "locked": false,
     "points": 0,
     "schema_version": 3,
     "solution": true,
     "task": false
    },
    "tags": []
   },
   "outputs": [],
   "source": [
    "# YOUR CODE HERE\n",
    "raise NotImplementedError()"
   ]
  },
  {
   "cell_type": "markdown",
   "metadata": {
    "deletable": false,
    "editable": false,
    "nbgrader": {
     "cell_type": "markdown",
     "checksum": "bc80a20ccd35fb8197bc7550d2c204ac",
     "grade": false,
     "grade_id": "cell-b9f3cd5b1196a98c",
     "locked": true,
     "schema_version": 3,
     "solution": false,
     "task": false
    },
    "tags": []
   },
   "source": [
    "Erzeugen Sie _predictions_ für die beiden Bilder. Achtung: Sie müssen die Dokumentation in [torchvision](https://pytorch.org/vision/0.8/models.html) genau lesen. Sind Sie zufrieden?"
   ]
  },
  {
   "cell_type": "code",
   "execution_count": null,
   "metadata": {
    "deletable": false,
    "nbgrader": {
     "cell_type": "code",
     "checksum": "77ad10df54f46b1903c25aa7c4f32a32",
     "grade": true,
     "grade_id": "cell-30001d90cfa593a0",
     "locked": false,
     "points": 0,
     "schema_version": 3,
     "solution": true,
     "task": false
    },
    "tags": []
   },
   "outputs": [],
   "source": [
    "# YOUR CODE HERE\n",
    "raise NotImplementedError()"
   ]
  },
  {
   "cell_type": "markdown",
   "metadata": {
    "deletable": false,
    "editable": false,
    "nbgrader": {
     "cell_type": "markdown",
     "checksum": "1b3fcbf931b941de6ca53793a95c8c46",
     "grade": false,
     "grade_id": "cell-bb9f3ddcc128dd7b",
     "locked": true,
     "schema_version": 3,
     "solution": false,
     "task": false
    },
    "tags": []
   },
   "source": [
    "## Inspektion von Activation Maps\n",
    "\n",
    "Wir schauen uns nun die _activation maps_ an, die während dem _forward-pass_ erstellt werden. Wir benutzen dazu einen _hook_: https://web.stanford.edu/~nanbhas/blog/forward-hooks-pytorch/\n",
    "\n",
    "Sie können diesen folgendermassen registrieren:\n",
    "\n",
    "```\n",
    "activation = {}\n",
    "def getActivation(name):\n",
    "  # the hook signature\n",
    "  def hook(model, input, output):\n",
    "    activation[name] = output.detach()\n",
    "  return hook\n",
    "  \n",
    " hook = list(net.modules())[30].register_forward_hook(getActivation('conv'))\n",
    "```\n",
    "\n",
    "Visualisieren Sie die _activation maps_ mit den grössten _activations_.list(net.modules())"
   ]
  },
  {
   "cell_type": "code",
   "execution_count": null,
   "metadata": {
    "deletable": false,
    "nbgrader": {
     "cell_type": "code",
     "checksum": "783a20606d6a66cdc397bc34fb96dc6f",
     "grade": true,
     "grade_id": "cell-375fda05c0e1cef9",
     "locked": false,
     "points": 0,
     "schema_version": 3,
     "solution": true,
     "task": false
    },
    "tags": []
   },
   "outputs": [],
   "source": [
    "# YOUR CODE HERE\n",
    "raise NotImplementedError()"
   ]
  }
 ],
 "metadata": {
  "kernelspec": {
   "display_name": "Python 3 (ipykernel)",
   "language": "python",
   "name": "python3"
  },
  "language_info": {
   "codemirror_mode": {
    "name": "ipython",
    "version": 3
   },
   "file_extension": ".py",
   "mimetype": "text/x-python",
   "name": "python",
   "nbconvert_exporter": "python",
   "pygments_lexer": "ipython3",
   "version": "3.11.5"
  },
  "vscode": {
   "interpreter": {
    "hash": "d4d1e4263499bec80672ea0156c357c1ee493ec2b1c70f0acce89fc37c4a6abe"
   }
  }
 },
 "nbformat": 4,
 "nbformat_minor": 4
}
