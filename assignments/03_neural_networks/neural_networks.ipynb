{
 "cells": [
  {
   "cell_type": "markdown",
   "id": "3cba4383",
   "metadata": {},
   "source": [
    "## FHNW bverI - HS2023"
   ]
  },
  {
   "cell_type": "code",
   "execution_count": null,
   "id": "023f259e-6eb2-44ca-97eb-583122c70572",
   "metadata": {
    "deletable": false,
    "editable": false,
    "nbgrader": {
     "cell_type": "code",
     "checksum": "6330a9338e545df568c24b517705ac69",
     "grade": false,
     "grade_id": "load",
     "locked": true,
     "schema_version": 3,
     "solution": false,
     "task": false
    },
    "tags": []
   },
   "outputs": [],
   "source": [
    "%load_ext autoreload\n",
    "%autoreload 2\n",
    "%matplotlib inline\n",
    "\n",
    "from IPython.core.interactiveshell import InteractiveShell\n",
    "InteractiveShell.ast_node_interactivity = \"all\""
   ]
  },
  {
   "cell_type": "markdown",
   "id": "0e420152",
   "metadata": {
    "deletable": false,
    "editable": false,
    "nbgrader": {
     "cell_type": "markdown",
     "checksum": "d158b1a98ae41caa5f101c7b402ac143",
     "grade": false,
     "grade_id": "header",
     "locked": true,
     "schema_version": 3,
     "solution": false,
     "task": false
    },
    "tags": []
   },
   "source": [
    "# Neuronale Netzwerke\n",
    "\n",
    "## Lernziele\n",
    "\n",
    "- Neuronale Netzwerke: Definieren, Trainieren und Visualisieren\n",
    "\n",
    "\n",
    "Hier gibt es gute Videos um mit Neuronalen Netzwerken vertraut zu werden, falls Sie ihr Wissen auffrischen möchten:\n",
    "\n",
    "[3blue1brown: Aber was *ist* nun ein neuronales Netzwerk?](https://youtu.be/aircAruvnKk?feature=shared) - Es gibt 3 Teile.\n",
    "\n",
    "\n",
    "Um die folgenden Aufgaben zu bewältigen können Sie das folgende Tutorial zu Hilfe nehmen:\n",
    "\n",
    "[PyTorch Tutorial Building Model](https://pytorch.org/tutorials/beginner/basics/buildmodel_tutorial.html)"
   ]
  },
  {
   "cell_type": "markdown",
   "id": "8227f2c8",
   "metadata": {
    "deletable": false,
    "editable": false,
    "nbgrader": {
     "cell_type": "markdown",
     "checksum": "7f7bcfb2ce644d624acaebbe1f3b3c67",
     "grade": false,
     "grade_id": "cell-a9856bbf98ea570f",
     "locked": true,
     "schema_version": 3,
     "solution": false,
     "task": false
    }
   },
   "source": [
    "## Setup\n",
    "\n",
    "Im Folgenden installieren und laden wir die benötigten Python packages. Danach setzten wir die Pfade für den Zugriff auf Daten und spezifizieren einen Output-Folder."
   ]
  },
  {
   "cell_type": "code",
   "execution_count": null,
   "id": "1f2c3b80",
   "metadata": {
    "deletable": false,
    "editable": false,
    "nbgrader": {
     "cell_type": "code",
     "checksum": "3d13eb35a868ed8cc7eac5b0282f620b",
     "grade": false,
     "grade_id": "imports",
     "locked": true,
     "schema_version": 3,
     "solution": false,
     "task": false
    },
    "tags": []
   },
   "outputs": [],
   "source": [
    "import os\n",
    "from pathlib import Path"
   ]
  },
  {
   "cell_type": "markdown",
   "id": "e7eb9059-e9e0-47f3-867b-0bea6c0284a3",
   "metadata": {},
   "source": [
    "Mount your google drive to store data and results."
   ]
  },
  {
   "cell_type": "code",
   "execution_count": null,
   "id": "f1f85331",
   "metadata": {},
   "outputs": [],
   "source": [
    "try:\n",
    "  import google.colab\n",
    "  IN_COLAB = True\n",
    "except:\n",
    "  IN_COLAB = False\n",
    "\n",
    "print(f\"In colab: {IN_COLAB}\")"
   ]
  },
  {
   "cell_type": "code",
   "execution_count": null,
   "id": "3820b1cd-cf46-4c49-8609-1fa0161584f8",
   "metadata": {},
   "outputs": [],
   "source": [
    "if IN_COLAB:\n",
    "    from google.colab import drive\n",
    "    drive.mount('/content/drive')"
   ]
  },
  {
   "cell_type": "markdown",
   "id": "72eaf73d-60bb-481c-a897-5bd9737899f3",
   "metadata": {},
   "source": [
    "Modifizieren Sie die folgenden Pfade bei Bedarf."
   ]
  },
  {
   "cell_type": "code",
   "execution_count": null,
   "id": "835c3f5e",
   "metadata": {},
   "outputs": [],
   "source": [
    "if IN_COLAB:\n",
    "    DATA_PATH = Path('/content/drive/MyDrive/bverI/data')\n",
    "else:\n",
    "    DATA_PATH = Path('../data')"
   ]
  },
  {
   "cell_type": "markdown",
   "id": "0b036c41-8043-4798-8b73-586833140e4f",
   "metadata": {},
   "source": [
    "Install packages not in base Colab environment."
   ]
  },
  {
   "cell_type": "code",
   "execution_count": null,
   "id": "b752c859-9bb7-4b8d-b868-54911ff34072",
   "metadata": {},
   "outputs": [],
   "source": [
    "if IN_COLAB:\n",
    "    os.system(\"pip install torchshow gdown\")"
   ]
  },
  {
   "cell_type": "markdown",
   "id": "db29f5e0",
   "metadata": {
    "tags": []
   },
   "source": [
    "## Datensatz: CIFAR 10\n",
    "\n",
    "Wir bereiten nun den CIAR10 Datensatz vor. Wir verwenden dazu [`torchvision.datasets`](https://pytorch.org/vision/0.8/datasets.html) um ein Objekte der Klasse [`torch.utils.data.Dataset`](https://pytorch.org/docs/stable/data.html#torch.utils.data.Dataset) zu erstellen.\n",
    "\n",
    "Später verwenden wir auch den [`torch.utils.data.DataLoader`](https://pytorch.org/docs/stable/data.html#torch.utils.data.DataLoader).\n"
   ]
  },
  {
   "cell_type": "markdown",
   "id": "8b7ffe43",
   "metadata": {
    "tags": []
   },
   "source": [
    "Erstellen Sie ein `torch.utils.data.Dataset` mit Hilfe von `torchvision.datasets.CIFAR10`."
   ]
  },
  {
   "cell_type": "code",
   "execution_count": null,
   "id": "579d0b69",
   "metadata": {
    "tags": []
   },
   "outputs": [],
   "source": [
    "import torchvision\n",
    "from  torchvision import transforms\n",
    "\n",
    "# Transform data to tensor\n",
    "transform = transforms.Compose([\n",
    "    transforms.ToTensor(),\n",
    "    #transforms.Normalize((0.5,), (0.5,))\n",
    "    torchvision.transforms.Lambda(lambda x: torch.nn.functional.normalize(x))\n",
    "])\n",
    "\n",
    "# Load CIFAR-10 dataset\n",
    "training_data = torchvision.datasets.CIFAR10(\n",
    "    root=DATA_PATH, train=True, download=True, transform=transform)\n",
    "test_data = torchvision.datasets.CIFAR10(\n",
    "    root=DATA_PATH, train=False, download=True, transform=transform)\n",
    "\n",
    "classes = ('plane', 'car', 'bird', 'cat', 'deer', 'dog', 'frog', 'horse', 'ship', 'truck')"
   ]
  },
  {
   "cell_type": "markdown",
   "id": "4b54829a",
   "metadata": {
    "tags": []
   },
   "source": [
    "## Lineares Modell\n",
    "\n",
    "In der folgenden Aufgabe implementieren Sie ein lineares Modell. Danach versuchen Sie den `CIFAR10` Datensatz damit zu modellieren.\n"
   ]
  },
  {
   "cell_type": "markdown",
   "id": "28bc51d6-0c93-422b-9b48-425c527ac8c2",
   "metadata": {},
   "source": [
    "Definieren Sie eine Klasse, die von `torch.nn.Module` erbt und definieren Sie Ihr lineares Modell. Es gibt $k=10$ Klassen, wobei jedes Bild $p=32 \\times 32 \\times 3$ Inputs hat."
   ]
  },
  {
   "cell_type": "code",
   "execution_count": null,
   "id": "346e5735-48f3-4e5f-b0e5-d85016c9a343",
   "metadata": {
    "deletable": false,
    "nbgrader": {
     "cell_type": "code",
     "checksum": "120a95496895ca7710537b34c620bdc8",
     "grade": true,
     "grade_id": "cell-51a3b3c73c33a0fb",
     "locked": false,
     "points": 0,
     "schema_version": 3,
     "solution": true,
     "task": false
    }
   },
   "outputs": [],
   "source": [
    "import torch\n",
    "import torch.nn as nn\n",
    "import torch.nn.functional as F\n",
    "import torchinfo\n",
    "\n",
    "class LinearModel(nn.Module):\n",
    "\n",
    "    def __init__(self):\n",
    "        super(LinearModel, self).__init__()\n",
    "        self.flatten = nn.Flatten()\n",
    "        # self.linear_layer = (...)\n",
    "        # YOUR CODE HERE\n",
    "        raise NotImplementedError()\n",
    "        \n",
    "    def forward(self, x):\n",
    "        # YOUR CODE HERE\n",
    "        raise NotImplementedError()\n",
    "\n",
    "net = LinearModel()\n",
    "print(net)\n",
    "print(torchinfo.summary(net, input_size=(1, 3, 32, 32)))"
   ]
  },
  {
   "cell_type": "markdown",
   "id": "a2363a8d-45d8-4fe6-baaf-ae67188b1458",
   "metadata": {},
   "source": [
    "Nun erstellen wir eine Funktion die ein Modell über eine Epoche optimiert."
   ]
  },
  {
   "cell_type": "code",
   "execution_count": null,
   "id": "99498f9f-bf31-4b0d-baac-06551ba0d0e4",
   "metadata": {},
   "outputs": [],
   "source": [
    "from tqdm.notebook import tqdm \n",
    "\n",
    "torch.manual_seed(123)\n",
    "\n",
    "def train_one_epoch(dataloader, net, optimizer, loss_fn):\n",
    "    \n",
    "    with tqdm(dataloader, unit=\"batch\") as tepoch:\n",
    "        correct_epoch = 0\n",
    "        total_epoch = 0\n",
    "        for i, (X, y) in enumerate(tepoch):\n",
    "\n",
    "            # Compute prediction and loss\n",
    "            probs = net(X)\n",
    "            loss = loss_fn(probs, y)\n",
    "\n",
    "            # Backpropagation und Weight Updates\n",
    "            optimizer.zero_grad()\n",
    "            loss.backward()\n",
    "            optimizer.step()\n",
    "\n",
    "            # Compute Batch Metric\n",
    "            y_hat = probs.argmax(dim=1, keepdim=True).squeeze()\n",
    "            correct = (y_hat == y).sum().item()\n",
    "            accuracy = correct / X.shape[0]\n",
    "\n",
    "            # Compute Epoch Metric\n",
    "            correct_epoch += correct\n",
    "            total_epoch += X.shape[0]\n",
    "            accuracy_epoch = correct_epoch / total_epoch\n",
    "\n",
    "            tepoch.set_postfix(loss=loss.item(), accuracy_batch= accuracy * 100, accuracy_epoch = accuracy_epoch * 100)"
   ]
  },
  {
   "cell_type": "markdown",
   "id": "8c848c60-4681-4120-b35c-ae903ad49e2a",
   "metadata": {},
   "source": [
    "Nun definieren wir einen DataLoader, Loss-Funktion, sowie Optimizer.\n"
   ]
  },
  {
   "cell_type": "code",
   "execution_count": null,
   "id": "f0ec071d-2af8-4063-908b-2da4320ca001",
   "metadata": {},
   "outputs": [],
   "source": [
    "from torch.utils.data import DataLoader\n",
    "\n",
    "dataloader = DataLoader(training_data, batch_size=512, shuffle=True, drop_last=False)\n",
    "loss_fn = nn.CrossEntropyLoss()\n",
    "optimizer = torch.optim.Adam(net.parameters())"
   ]
  },
  {
   "cell_type": "markdown",
   "id": "42b69463-7048-43ee-b24c-9e9065c585e0",
   "metadata": {},
   "source": [
    "Nun trainieren wir das Modell für 5 Epochen."
   ]
  },
  {
   "cell_type": "code",
   "execution_count": null,
   "id": "5326a564-124a-4a07-a33b-1e256baf2874",
   "metadata": {
    "deletable": false,
    "nbgrader": {
     "cell_type": "code",
     "checksum": "981b16f0c4345768fbf44a8b280c3456",
     "grade": true,
     "grade_id": "cell-6eb77946c04e61fd",
     "locked": false,
     "points": 0,
     "schema_version": 3,
     "solution": true,
     "task": false
    }
   },
   "outputs": [],
   "source": [
    "# YOUR CODE HERE\n",
    "raise NotImplementedError()"
   ]
  },
  {
   "cell_type": "markdown",
   "id": "a169b1f7-870b-4239-9efb-0582de4dc3f4",
   "metadata": {},
   "source": [
    "## Was hat das lineare Modell gelernt?\n",
    "\n",
    "In dieser Aufgabe visualisieren Sie was das Modell gelernt hat. Zeichnen Sie dazu die Gewichte $\\mathbf{W} \\in \\mathbb{R}^{k \\times p}$ als Bilder.\n",
    "\n"
   ]
  },
  {
   "cell_type": "code",
   "execution_count": null,
   "id": "279a884a-670b-4fcb-a83a-3d9751dd5cf5",
   "metadata": {
    "deletable": false,
    "nbgrader": {
     "cell_type": "code",
     "checksum": "02e759c7879e87ff1b8cb0ef3d5268ec",
     "grade": true,
     "grade_id": "cell-4b61928e887079f2",
     "locked": false,
     "points": 0,
     "schema_version": 3,
     "solution": true,
     "task": false
    }
   },
   "outputs": [],
   "source": [
    "weights = net.linear_layer.weight.data.cpu()\n",
    "weights = weights.numpy()\n",
    "\n",
    "fig, axes = plt.subplots(2, 5, figsize=(20, 10))\n",
    "axes = axes.ravel()\n",
    "\n",
    "for i, ax in enumerate(axes):\n",
    "\n",
    "    # Reshape the weights into images\n",
    "    # weight = weights[i].(...)\n",
    "    # YOUR CODE HERE\n",
    "    raise NotImplementedError()\n",
    "    \n",
    "    weight = (weight - weight.min()) / (weight.max() - weight.min())\n",
    "    _ = ax.imshow(weight)\n",
    "    _ = ax.set_title(classes[i])\n",
    "    _ = ax.axis('off')\n",
    "plt.show()"
   ]
  },
  {
   "cell_type": "markdown",
   "id": "23599f2a-8de2-4528-b524-d69b8e8b474c",
   "metadata": {},
   "source": [
    "Wie interpretieren Sie die Gewichte? Warum sehen die so aus?"
   ]
  },
  {
   "cell_type": "markdown",
   "id": "7d192b6b-9228-4778-b06c-2fc1fa9e06cf",
   "metadata": {
    "deletable": false,
    "nbgrader": {
     "cell_type": "markdown",
     "checksum": "c5156196716f78e9cc834f660bc9a6f3",
     "grade": true,
     "grade_id": "cell-01bf4ece09dc16ab",
     "locked": false,
     "points": 0,
     "schema_version": 3,
     "solution": true,
     "task": false
    }
   },
   "source": [
    "YOUR ANSWER HERE"
   ]
  },
  {
   "cell_type": "markdown",
   "id": "76f8de83-643e-4704-9ad9-f934b3cdf688",
   "metadata": {},
   "source": [
    "## Neuronales Netzwerk\n",
    "\n",
    "In dieser Aufgabe werden Sie ein neuronales Netzwerk mit einem Hidden-Layer trainieren."
   ]
  },
  {
   "cell_type": "markdown",
   "id": "46d651b4",
   "metadata": {
    "tags": []
   },
   "source": [
    "Ergänzen Sie die Klasse `MLP` und definieren Sie Ihr neuronales Netzwerk. Erstellen Sie einen Hidden-Layer mit 64 Nodes und ReLU Aktivierungs-Funktion. Instanzieren Sie das Netzwerk und printen Sie das Objekt."
   ]
  },
  {
   "cell_type": "code",
   "execution_count": null,
   "id": "18297548",
   "metadata": {
    "deletable": false,
    "nbgrader": {
     "cell_type": "code",
     "checksum": "ae449bcaba12d0c472d23cd3313d47db",
     "grade": true,
     "grade_id": "cell-c5883ddabdeebd5e",
     "locked": false,
     "points": 0,
     "schema_version": 3,
     "solution": true,
     "task": false
    },
    "tags": []
   },
   "outputs": [],
   "source": [
    "import torch\n",
    "import torch.nn as nn\n",
    "import torch.nn.functional as F\n",
    "import torchinfo\n",
    "\n",
    "class MLP(nn.Module):\n",
    "\n",
    "    def __init__(self):\n",
    "        super(MLP, self).__init__()\n",
    "        self.flatten = nn.Flatten()\n",
    "        # YOUR CODE HERE\n",
    "        raise NotImplementedError()\n",
    "        \n",
    "    def forward(self, x):\n",
    "        x = self.flatten(x)\n",
    "        x = torch.relu(self.hidden_layer1(x))\n",
    "        x = self.output_layer(x)\n",
    "        return x\n",
    "\n",
    "\n",
    "net = MLP()\n",
    "print(torchinfo.summary(net, input_size=(1, 3, 32, 32)))"
   ]
  },
  {
   "cell_type": "markdown",
   "id": "81ea5127",
   "metadata": {
    "tags": []
   },
   "source": [
    "Trainieren Sie das Modell für 3-10 Epochen."
   ]
  },
  {
   "cell_type": "code",
   "execution_count": null,
   "id": "479087d3",
   "metadata": {
    "deletable": false,
    "nbgrader": {
     "cell_type": "code",
     "checksum": "eebc22b41fa9544d4d88414a0cabfa9a",
     "grade": true,
     "grade_id": "cell-478bcde01b2c8022",
     "locked": false,
     "points": 0,
     "schema_version": 3,
     "solution": true,
     "task": false
    },
    "tags": []
   },
   "outputs": [],
   "source": [
    "# YOUR CODE HERE\n",
    "raise NotImplementedError()"
   ]
  },
  {
   "cell_type": "markdown",
   "id": "d69a3904-1811-47fa-a182-60c94e71a24f",
   "metadata": {},
   "source": [
    "Visualisieren Sie die Gewichte im ersten Layer."
   ]
  },
  {
   "cell_type": "code",
   "execution_count": null,
   "id": "3b32ef5d-ecd5-4445-9b6d-c5325cf70a8b",
   "metadata": {
    "deletable": false,
    "nbgrader": {
     "cell_type": "code",
     "checksum": "d9758ad34f0137ef5117f6a23c4e24c4",
     "grade": true,
     "grade_id": "cell-746ec3b0c84b51a9",
     "locked": false,
     "points": 0,
     "schema_version": 3,
     "solution": true,
     "task": false
    }
   },
   "outputs": [],
   "source": [
    "# selektieren Sie die Gewichte\n",
    "import numpy as np\n",
    "\n",
    "# weights = net.(...)\n",
    "# YOUR CODE HERE\n",
    "raise NotImplementedError()\n",
    "\n",
    "weights = weights.numpy()\n",
    "\n",
    "fig, axes = plt.subplots(8, 8, figsize=(10, 10))\n",
    "axes = axes.ravel()\n",
    "\n",
    "for i, ax in enumerate(axes):\n",
    "\n",
    "    # Reshape the weights into images\n",
    "    weight = weights[i].reshape(3, 32, 32).transpose(1, 2, 0)\n",
    "    weight = (weight - weight.min()) / (weight.max() - weight.min())\n",
    "    _ = ax.imshow(weight)\n",
    "    _ = ax.axis('off')\n",
    "\n",
    "plt.tight_layout()\n",
    "plt.show()"
   ]
  },
  {
   "cell_type": "markdown",
   "id": "15d09a76-c7ab-46e1-9c29-78d1f4d5d893",
   "metadata": {},
   "source": [
    "Wie interpretieren Sie die Visualisierungen?"
   ]
  },
  {
   "cell_type": "markdown",
   "id": "bd86f108-8cb9-4c52-b478-d318d7be5cb5",
   "metadata": {
    "deletable": false,
    "nbgrader": {
     "cell_type": "markdown",
     "checksum": "2472b9e50f50d826af534fcde210b650",
     "grade": true,
     "grade_id": "cell-e31f31c85a4fe24c",
     "locked": false,
     "points": 0,
     "schema_version": 3,
     "solution": true,
     "task": false
    }
   },
   "source": [
    "YOUR ANSWER HERE"
   ]
  },
  {
   "cell_type": "markdown",
   "id": "c0438b25-a8a2-418e-829a-e7281a60e1cf",
   "metadata": {},
   "source": [
    "## (Optional) Ausblick CNNs\n",
    "\n",
    "- Implementieren Sie ein CNN.\n",
    "- Trainieren Sie das Modell.\n",
    "- Vergleichen Sie die Performance.\n",
    "- Visualisieren Sie die gelernten Filter."
   ]
  },
  {
   "cell_type": "code",
   "execution_count": null,
   "id": "298684a6-d61f-4d30-b1fa-fb26e005a682",
   "metadata": {
    "deletable": false,
    "nbgrader": {
     "cell_type": "code",
     "checksum": "a2bc19220a72c2efdbfdd6a72eea25fd",
     "grade": true,
     "grade_id": "cell-8f1bddec2fb69331",
     "locked": false,
     "points": 0,
     "schema_version": 3,
     "solution": true,
     "task": false
    }
   },
   "outputs": [],
   "source": [
    "import torch\n",
    "import torch.nn as nn\n",
    "import torch.nn.functional as F\n",
    "import torchinfo\n",
    "\n",
    "class CNN(nn.Module):\n",
    "\n",
    "    def __init__(self):\n",
    "        super(CNN, self).__init__()\n",
    "        # YOUR CODE HERE\n",
    "        raise NotImplementedError()\n",
    "        \n",
    "    def forward(self, x):\n",
    "        # YOUR CODE HERE\n",
    "        raise NotImplementedError()\n",
    "        return x\n",
    "\n",
    "\n",
    "cnn = CNN()\n",
    "print(torchinfo.summary(cnn, input_size=(1, 3, 32, 32)))"
   ]
  },
  {
   "cell_type": "code",
   "execution_count": null,
   "id": "25b0f480-92a2-4edd-8bbb-f8eeb11353b8",
   "metadata": {},
   "outputs": [],
   "source": [
    "dataloader = DataLoader(training_data, batch_size=512, shuffle=True, drop_last=False)\n",
    "\n",
    "loss_fn = nn.CrossEntropyLoss()\n",
    "optimizer = torch.optim.Adam(cnn.parameters())\n",
    "\n",
    "for epoch in range(0, 5):\n",
    "    train_one_epoch(dataloader, cnn, optimizer, loss_fn)\n"
   ]
  },
  {
   "cell_type": "code",
   "execution_count": null,
   "id": "573257ab-7d5d-4abc-9199-ec1bd25bfe15",
   "metadata": {
    "deletable": false,
    "nbgrader": {
     "cell_type": "code",
     "checksum": "f29f8f7161e182d14f4d7a1bd4e7c499",
     "grade": true,
     "grade_id": "cell-b8fe28235fdbedaa",
     "locked": false,
     "points": 0,
     "schema_version": 3,
     "solution": true,
     "task": false
    }
   },
   "outputs": [],
   "source": [
    "# selektieren Sie die Gewichte\n",
    "import numpy as np\n",
    "\n",
    "# weights = cnn.(...)\n",
    "# YOUR CODE HERE\n",
    "raise NotImplementedError()\n",
    "\n",
    "weights = weights.numpy()\n",
    "\n",
    "fig, axes = plt.subplots(4, 4, figsize=(5, 5))\n",
    "axes = axes.ravel()\n",
    "\n",
    "for i, ax in enumerate(axes):\n",
    "\n",
    "    # Reshape the weights into images\n",
    "    weight = weights[i].reshape(3, 7, 7).transpose(1, 2, 0)\n",
    "    weight = (weight - weight.min()) / (weight.max() - weight.min())\n",
    "    _ = ax.imshow(weight)\n",
    "    _ = ax.axis('off')\n",
    "\n",
    "plt.tight_layout()\n",
    "plt.show()"
   ]
  }
 ],
 "metadata": {
  "kernelspec": {
   "display_name": "Python 3 (ipykernel)",
   "language": "python",
   "name": "python3"
  },
  "language_info": {
   "codemirror_mode": {
    "name": "ipython",
    "version": 3
   },
   "file_extension": ".py",
   "mimetype": "text/x-python",
   "name": "python",
   "nbconvert_exporter": "python",
   "pygments_lexer": "ipython3",
   "version": "3.11.5"
  },
  "vscode": {
   "interpreter": {
    "hash": "d4d1e4263499bec80672ea0156c357c1ee493ec2b1c70f0acce89fc37c4a6abe"
   }
  }
 },
 "nbformat": 4,
 "nbformat_minor": 5
}
